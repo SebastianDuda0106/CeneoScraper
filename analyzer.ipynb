{
 "cells": [
  {
   "cell_type": "markdown",
   "metadata": {},
   "source": [
    "### Import Pakietów"
   ]
  },
  {
   "cell_type": "code",
   "execution_count": 260,
   "metadata": {},
   "outputs": [],
   "source": [
    "import os\n",
    "import pandas as pd\n",
    "import numpy as np\n",
    "from matplotlib import pyplot as plt"
   ]
  },
  {
   "cell_type": "markdown",
   "metadata": {},
   "source": [
    "### Wczytanie i przygotowanie danych"
   ]
  },
  {
   "cell_type": "code",
   "execution_count": 261,
   "metadata": {},
   "outputs": [
    {
     "name": "stdout",
     "output_type": "stream",
     "text": [
      "110556593\n",
      "39562616\n",
      "84514582\n",
      "96008085\n"
     ]
    }
   ],
   "source": [
    "print(*[filename.split(\".\")[0] for filename in os.listdir(\"./opinions\")],sep=\"\\n\")"
   ]
  },
  {
   "cell_type": "code",
   "execution_count": 262,
   "metadata": {},
   "outputs": [],
   "source": [
    "pdc=1\n",
    "if pdc==1:product_id=84514582\n",
    "else:product_id=input(\"Podaj kod produktu:\")"
   ]
  },
  {
   "cell_type": "code",
   "execution_count": 263,
   "metadata": {},
   "outputs": [
    {
     "data": {
      "text/html": [
       "<div>\n",
       "<style scoped>\n",
       "    .dataframe tbody tr th:only-of-type {\n",
       "        vertical-align: middle;\n",
       "    }\n",
       "\n",
       "    .dataframe tbody tr th {\n",
       "        vertical-align: top;\n",
       "    }\n",
       "\n",
       "    .dataframe thead th {\n",
       "        text-align: right;\n",
       "    }\n",
       "</style>\n",
       "<table border=\"1\" class=\"dataframe\">\n",
       "  <thead>\n",
       "    <tr style=\"text-align: right;\">\n",
       "      <th></th>\n",
       "      <th>opinion_id</th>\n",
       "      <th>author</th>\n",
       "      <th>recommendation</th>\n",
       "      <th>stars</th>\n",
       "      <th>content</th>\n",
       "      <th>pros</th>\n",
       "      <th>cons</th>\n",
       "      <th>useful</th>\n",
       "      <th>unuseful</th>\n",
       "      <th>post_date</th>\n",
       "      <th>purchase_date</th>\n",
       "    </tr>\n",
       "  </thead>\n",
       "  <tbody>\n",
       "    <tr>\n",
       "      <th>0</th>\n",
       "      <td>12535429</td>\n",
       "      <td>g...6</td>\n",
       "      <td>None</td>\n",
       "      <td>3/5</td>\n",
       "      <td>Instalacja łatwa. Oprogramowanie HP Smart bezp...</td>\n",
       "      <td>[czyste napełnianie atramentem, niski koszt wy...</td>\n",
       "      <td>[jakość wydruków]</td>\n",
       "      <td>19</td>\n",
       "      <td>3</td>\n",
       "      <td>2020-05-28 08:02:51</td>\n",
       "      <td>2020-05-04 22:29:44</td>\n",
       "    </tr>\n",
       "    <tr>\n",
       "      <th>1</th>\n",
       "      <td>13551598</td>\n",
       "      <td>b...a</td>\n",
       "      <td>Polecam</td>\n",
       "      <td>4/5</td>\n",
       "      <td>Wykonana dobrze, trochę za duża, z ledwością m...</td>\n",
       "      <td>[czyste napełnianie atramentem, głośność pracy]</td>\n",
       "      <td>[]</td>\n",
       "      <td>3</td>\n",
       "      <td>3</td>\n",
       "      <td>2020-12-10 19:41:04</td>\n",
       "      <td>2020-12-04 21:02:01</td>\n",
       "    </tr>\n",
       "    <tr>\n",
       "      <th>2</th>\n",
       "      <td>18299406</td>\n",
       "      <td>U...o</td>\n",
       "      <td>Polecam</td>\n",
       "      <td>4,5/5</td>\n",
       "      <td>Po 1 dniu uzytkowania mozna stwierdzic 1-polac...</td>\n",
       "      <td>[czyste napełnianie atramentem, jakość wydrukó...</td>\n",
       "      <td>[głośność pracy]</td>\n",
       "      <td>0</td>\n",
       "      <td>0</td>\n",
       "      <td>2024-01-12 21:03:08</td>\n",
       "      <td>2024-01-09 18:20:01</td>\n",
       "    </tr>\n",
       "    <tr>\n",
       "      <th>3</th>\n",
       "      <td>15226709</td>\n",
       "      <td>k...l</td>\n",
       "      <td>Polecam</td>\n",
       "      <td>4/5</td>\n",
       "      <td>Wszystko z opisu się zgadza. Baaardzo ekonomic...</td>\n",
       "      <td>[]</td>\n",
       "      <td>[]</td>\n",
       "      <td>3</td>\n",
       "      <td>0</td>\n",
       "      <td>2021-11-18 17:47:41</td>\n",
       "      <td>2021-11-01 18:36:33</td>\n",
       "    </tr>\n",
       "    <tr>\n",
       "      <th>4</th>\n",
       "      <td>13501735</td>\n",
       "      <td>g...k</td>\n",
       "      <td>None</td>\n",
       "      <td>3,5/5</td>\n",
       "      <td>produkt na wstępie nie ruszył bo był problem z...</td>\n",
       "      <td>[jakość wydruków, jakość wydruku, szybkość wyd...</td>\n",
       "      <td>[głośność pracy]</td>\n",
       "      <td>4</td>\n",
       "      <td>0</td>\n",
       "      <td>2020-12-04 00:11:48</td>\n",
       "      <td>2020-11-17 18:04:01</td>\n",
       "    </tr>\n",
       "    <tr>\n",
       "      <th>...</th>\n",
       "      <td>...</td>\n",
       "      <td>...</td>\n",
       "      <td>...</td>\n",
       "      <td>...</td>\n",
       "      <td>...</td>\n",
       "      <td>...</td>\n",
       "      <td>...</td>\n",
       "      <td>...</td>\n",
       "      <td>...</td>\n",
       "      <td>...</td>\n",
       "      <td>...</td>\n",
       "    </tr>\n",
       "    <tr>\n",
       "      <th>81</th>\n",
       "      <td>13466015</td>\n",
       "      <td>w...d</td>\n",
       "      <td>Nie polecam</td>\n",
       "      <td>1/5</td>\n",
       "      <td>badziew</td>\n",
       "      <td>[]</td>\n",
       "      <td>[]</td>\n",
       "      <td>1</td>\n",
       "      <td>0</td>\n",
       "      <td>2020-11-28 17:08:14</td>\n",
       "      <td>2020-10-28 14:03:29</td>\n",
       "    </tr>\n",
       "    <tr>\n",
       "      <th>82</th>\n",
       "      <td>15730485</td>\n",
       "      <td>b...o</td>\n",
       "      <td>Nie polecam</td>\n",
       "      <td>2/5</td>\n",
       "      <td>POLECAM</td>\n",
       "      <td>[]</td>\n",
       "      <td>[]</td>\n",
       "      <td>0</td>\n",
       "      <td>0</td>\n",
       "      <td>2022-02-21 10:21:10</td>\n",
       "      <td>2022-02-14 08:19:16</td>\n",
       "    </tr>\n",
       "    <tr>\n",
       "      <th>83</th>\n",
       "      <td>15798075</td>\n",
       "      <td>b...o</td>\n",
       "      <td>Nie polecam</td>\n",
       "      <td>0,5/5</td>\n",
       "      <td>polecam</td>\n",
       "      <td>[]</td>\n",
       "      <td>[]</td>\n",
       "      <td>0</td>\n",
       "      <td>1</td>\n",
       "      <td>2022-03-09 11:10:06</td>\n",
       "      <td>2022-03-08 11:01:43</td>\n",
       "    </tr>\n",
       "    <tr>\n",
       "      <th>84</th>\n",
       "      <td>11644241</td>\n",
       "      <td>Użytkownik Ceneo</td>\n",
       "      <td>Nie polecam</td>\n",
       "      <td>1/5</td>\n",
       "      <td>Koszmar. Zmuszenie jej do wydruku graniczy z c...</td>\n",
       "      <td>[]</td>\n",
       "      <td>[]</td>\n",
       "      <td>3</td>\n",
       "      <td>1</td>\n",
       "      <td>2020-01-26 21:28:27</td>\n",
       "      <td>None</td>\n",
       "    </tr>\n",
       "    <tr>\n",
       "      <th>85</th>\n",
       "      <td>11818859</td>\n",
       "      <td>Użytkownik Ceneo</td>\n",
       "      <td>Nie polecam</td>\n",
       "      <td>2,5/5</td>\n",
       "      <td>Po około miesiącu od zakupu i drugim uruchomie...</td>\n",
       "      <td>[wydajność]</td>\n",
       "      <td>[]</td>\n",
       "      <td>2</td>\n",
       "      <td>0</td>\n",
       "      <td>2020-02-27 23:47:28</td>\n",
       "      <td>None</td>\n",
       "    </tr>\n",
       "  </tbody>\n",
       "</table>\n",
       "<p>86 rows × 11 columns</p>\n",
       "</div>"
      ],
      "text/plain": [
       "    opinion_id            author recommendation  stars  \\\n",
       "0     12535429             g...6           None    3/5   \n",
       "1     13551598             b...a        Polecam    4/5   \n",
       "2     18299406             U...o        Polecam  4,5/5   \n",
       "3     15226709             k...l        Polecam    4/5   \n",
       "4     13501735             g...k           None  3,5/5   \n",
       "..         ...               ...            ...    ...   \n",
       "81    13466015             w...d    Nie polecam    1/5   \n",
       "82    15730485             b...o    Nie polecam    2/5   \n",
       "83    15798075             b...o    Nie polecam  0,5/5   \n",
       "84    11644241  Użytkownik Ceneo    Nie polecam    1/5   \n",
       "85    11818859  Użytkownik Ceneo    Nie polecam  2,5/5   \n",
       "\n",
       "                                              content  \\\n",
       "0   Instalacja łatwa. Oprogramowanie HP Smart bezp...   \n",
       "1   Wykonana dobrze, trochę za duża, z ledwością m...   \n",
       "2   Po 1 dniu uzytkowania mozna stwierdzic 1-polac...   \n",
       "3   Wszystko z opisu się zgadza. Baaardzo ekonomic...   \n",
       "4   produkt na wstępie nie ruszył bo był problem z...   \n",
       "..                                                ...   \n",
       "81                                            badziew   \n",
       "82                                            POLECAM   \n",
       "83                                            polecam   \n",
       "84  Koszmar. Zmuszenie jej do wydruku graniczy z c...   \n",
       "85  Po około miesiącu od zakupu i drugim uruchomie...   \n",
       "\n",
       "                                                 pros               cons  \\\n",
       "0   [czyste napełnianie atramentem, niski koszt wy...  [jakość wydruków]   \n",
       "1     [czyste napełnianie atramentem, głośność pracy]                 []   \n",
       "2   [czyste napełnianie atramentem, jakość wydrukó...   [głośność pracy]   \n",
       "3                                                  []                 []   \n",
       "4   [jakość wydruków, jakość wydruku, szybkość wyd...   [głośność pracy]   \n",
       "..                                                ...                ...   \n",
       "81                                                 []                 []   \n",
       "82                                                 []                 []   \n",
       "83                                                 []                 []   \n",
       "84                                                 []                 []   \n",
       "85                                        [wydajność]                 []   \n",
       "\n",
       "    useful  unuseful            post_date        purchase_date  \n",
       "0       19         3  2020-05-28 08:02:51  2020-05-04 22:29:44  \n",
       "1        3         3  2020-12-10 19:41:04  2020-12-04 21:02:01  \n",
       "2        0         0  2024-01-12 21:03:08  2024-01-09 18:20:01  \n",
       "3        3         0  2021-11-18 17:47:41  2021-11-01 18:36:33  \n",
       "4        4         0  2020-12-04 00:11:48  2020-11-17 18:04:01  \n",
       "..     ...       ...                  ...                  ...  \n",
       "81       1         0  2020-11-28 17:08:14  2020-10-28 14:03:29  \n",
       "82       0         0  2022-02-21 10:21:10  2022-02-14 08:19:16  \n",
       "83       0         1  2022-03-09 11:10:06  2022-03-08 11:01:43  \n",
       "84       3         1  2020-01-26 21:28:27                 None  \n",
       "85       2         0  2020-02-27 23:47:28                 None  \n",
       "\n",
       "[86 rows x 11 columns]"
      ]
     },
     "execution_count": 263,
     "metadata": {},
     "output_type": "execute_result"
    }
   ],
   "source": [
    "opinions = pd.read_json(f\"./opinions/{product_id}.json\")\n",
    "opinions"
   ]
  },
  {
   "cell_type": "code",
   "execution_count": 264,
   "metadata": {},
   "outputs": [],
   "source": [
    "#opinions.stars=[star.replace(\",\",\".\").split(\"/\")[0] for star in opinions.stars]\n",
    "#opinions.stars=[float(star) for star in opinions.stars]\n",
    "opinions.stars = opinions.stars.apply(lambda s: s.split(\"/\")[0].replace(\",\",\".\")).astype(float)\n",
    "opinions.useful=opinions.useful.astype(int)\n",
    "opinions.unuseful=opinions.unuseful.astype(int)"
   ]
  },
  {
   "cell_type": "markdown",
   "metadata": {},
   "source": [
    "### Podstawowe statystyki"
   ]
  },
  {
   "cell_type": "code",
   "execution_count": 265,
   "metadata": {},
   "outputs": [
    {
     "name": "stdout",
     "output_type": "stream",
     "text": [
      "Liczba opinii o produkcie: 86\n",
      "Liczba opinii z podaną listą zalet: 40\n",
      "Liczba opinii z podaną listą wad: 10\n",
      "Liczba opinii z podaną listą zalet i wad: 8\n",
      "Średnia ocena produktu: 4.38\n"
     ]
    }
   ],
   "source": [
    "opinions_count = len(opinions)\n",
    "#opinions_count = opinions.notna().all(axis=1).sum()\n",
    "pros_count = opinions[\"pros\"].astype(bool).sum()\n",
    "cons_count = opinions[\"cons\"].astype(bool).sum()\n",
    "pros_cons_count=opinions.apply(lambda o: bool(o.pros) and bool(o.cons),axis=1).sum()\n",
    "averages_stars = opinions.stars.mean()\n",
    "print(f\"Liczba opinii o produkcie: {opinions_count}\")\n",
    "print(f\"Liczba opinii z podaną listą zalet: {pros_count}\")\n",
    "print(f\"Liczba opinii z podaną listą wad: {cons_count}\")\n",
    "print(f\"Liczba opinii z podaną listą zalet i wad: {pros_cons_count}\")\n",
    "print(f\"Średnia ocena produktu: {averages_stars:.3}\")"
   ]
  },
  {
   "cell_type": "code",
   "execution_count": 266,
   "metadata": {},
   "outputs": [
    {
     "name": "stdout",
     "output_type": "stream",
     "text": [
      "Lista unikatowych zalet:  15 \n",
      "Lista unikatowych wad  4\n",
      "pros\n",
      "jakość wydruków                  34\n",
      "szybkość wydruku                 33\n",
      "jakość wydruku                   28\n",
      "głośność pracy                   23\n",
      "wydajność                        15\n",
      "czyste napełnianie atramentem    11\n",
      "wydajna                          10\n",
      "niski koszt wydruku               9\n",
      "tani atrament                     4\n",
      "drukowanie poprzez e-mail         3\n",
      "nowoczesność                      3\n",
      "doskonały design                  2\n",
      "innowacyjność                     2\n",
      "podajnik dokumentów               1\n",
      "zajmuje mało miejsc               1\n",
      "Name: count, dtype: int64 cons\n",
      "głośność pracy      7\n",
      "szybkość wydruku    4\n",
      "jakość wydruków     3\n",
      "jakość wydruku      2\n",
      "Name: count, dtype: int64\n"
     ]
    }
   ],
   "source": [
    "pros= opinions.pros.explode().dropna().value_counts()\n",
    "cons =opinions.cons.explode().dropna().value_counts()\n",
    "print(\"Lista unikatowych zalet: \",len(pros),\"\\nLista unikatowych wad \",len(cons))\n",
    "print(pros,cons)"
   ]
  },
  {
   "cell_type": "markdown",
   "metadata": {},
   "source": [
    "### Wykresy "
   ]
  },
  {
   "cell_type": "code",
   "execution_count": 312,
   "metadata": {},
   "outputs": [
    {
     "data": {
      "text/plain": [
       "recommendation\n",
       "Nie polecam     7\n",
       "Polecam        73\n",
       "None            6\n",
       "Name: count, dtype: int64"
      ]
     },
     "execution_count": 312,
     "metadata": {},
     "output_type": "execute_result"
    }
   ],
   "source": [
    "recommendations = opinions[\"recommendation\"].value_counts(dropna=False).reindex(['Nie polecam','Polecam',None],fill_value=0)\n",
    "recommendations "
   ]
  },
  {
   "cell_type": "code",
   "execution_count": 323,
   "metadata": {},
   "outputs": [
    {
     "data": {
      "text/plain": [
       "<Axes: title={'center': 'Rozkład rekomendacji w opiniach o produkcie'}>"
      ]
     },
     "execution_count": 323,
     "metadata": {},
     "output_type": "execute_result"
    },
    {
     "data": {
      "image/png": "[encoded data removed]",
      "text/plain": [
       "<Figure size 640x480 with 1 Axes>"
      ]
     },
     "metadata": {},
     "output_type": "display_data"
    }
   ],
   "source": [
    "recommendations.plot.pie(\n",
    "    label=\"\",\n",
    "    title=\"Rozkład rekomendacji w opiniach o produkcie\",\n",
    "    labels=['Nie polecam','Polecam',\"Nie mam zdania\"],\n",
    "    colors=[\"crimson\",\"forestgreen\",\"lightgray\"],\n",
    "    autopct=\"%1.1f%%\"\n",
    "    )"
   ]
  }
 ],
 "metadata": {
  "kernelspec": {
   "display_name": "venv",
   "language": "python",
   "name": "python3"
  },
  "language_info": {
   "codemirror_mode": {
    "name": "ipython",
    "version": 3
   },
   "file_extension": ".py",
   "mimetype": "text/x-python",
   "name": "python",
   "nbconvert_exporter": "python",
   "pygments_lexer": "ipython3",
   "version": "3.11.4"
  }
 },
 "nbformat": 4,
 "nbformat_minor": 2
}
